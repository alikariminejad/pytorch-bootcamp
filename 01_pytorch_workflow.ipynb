{
 "cells": [
  {
   "cell_type": "code",
   "execution_count": 1,
   "metadata": {},
   "outputs": [
    {
     "data": {
      "text/plain": [
       "'2.7.0+cpu'"
      ]
     },
     "execution_count": 1,
     "metadata": {},
     "output_type": "execute_result"
    }
   ],
   "source": [
    "import torch\n",
    "from torch import nn # nn contains all of PyTorch's building blocks for neural networks\n",
    "import matplotlib.pyplot as plt\n",
    "\n",
    "torch.__version__"
   ]
  },
  {
   "cell_type": "markdown",
   "metadata": {},
   "source": [
    "## Data prepairing and loading\n",
    "\n",
    "Data can be almost anything.... in machine learning.\n",
    "\n",
    "* Excel Spreadsheet\n",
    "* Images of any kind\n",
    "* Videos\n",
    "* Audio\n",
    "* DNA\n",
    "* Text\n",
    "\n",
    "Machine learning is a game of two parts:\n",
    "1. Get data into a numerical representation.\n",
    "2. Build a model to learn patterns in that numerical representation.\n",
    "\n",
    "To showcase this, let's create some known data using linear regression formula.\n",
    "We'll use a linear regression formula to make a straight line with known parameters."
   ]
  },
  {
   "cell_type": "code",
   "execution_count": 2,
   "metadata": {},
   "outputs": [
    {
     "data": {
      "text/plain": [
       "(tensor([[0.0000],\n",
       "         [0.0200],\n",
       "         [0.0400],\n",
       "         [0.0600],\n",
       "         [0.0800],\n",
       "         [0.1000],\n",
       "         [0.1200],\n",
       "         [0.1400],\n",
       "         [0.1600],\n",
       "         [0.1800]]),\n",
       " tensor([[0.3000],\n",
       "         [0.3140],\n",
       "         [0.3280],\n",
       "         [0.3420],\n",
       "         [0.3560],\n",
       "         [0.3700],\n",
       "         [0.3840],\n",
       "         [0.3980],\n",
       "         [0.4120],\n",
       "         [0.4260]]))"
      ]
     },
     "execution_count": 2,
     "metadata": {},
     "output_type": "execute_result"
    }
   ],
   "source": [
    "import torch\n",
    "\n",
    "# Create *known* parameters\n",
    "weight = 0.7\n",
    "bias = 0.3\n",
    "\n",
    "# Create\n",
    "start = 0\n",
    "end = 1\n",
    "step = 0.02\n",
    "X = torch.arange(start, end, step).unsqueeze(dim=1)\n",
    "y = weight * X + bias\n",
    "\n",
    "X[:10], y[:10]"
   ]
  },
  {
   "cell_type": "code",
   "execution_count": 3,
   "metadata": {},
   "outputs": [
    {
     "data": {
      "text/plain": [
       "(50, 50)"
      ]
     },
     "execution_count": 3,
     "metadata": {},
     "output_type": "execute_result"
    }
   ],
   "source": [
    "len(X), len(y)"
   ]
  },
  {
   "cell_type": "markdown",
   "metadata": {},
   "source": [
    "### Splitting data into train and test"
   ]
  },
  {
   "cell_type": "code",
   "execution_count": 4,
   "metadata": {},
   "outputs": [
    {
     "data": {
      "text/plain": [
       "40"
      ]
     },
     "execution_count": 4,
     "metadata": {},
     "output_type": "execute_result"
    }
   ],
   "source": [
    "train_split = int(0.8 * len(X))\n",
    "train_split"
   ]
  },
  {
   "cell_type": "code",
   "execution_count": 5,
   "metadata": {},
   "outputs": [
    {
     "data": {
      "text/plain": [
       "(40, 10, 40, 10)"
      ]
     },
     "execution_count": 5,
     "metadata": {},
     "output_type": "execute_result"
    }
   ],
   "source": [
    "X_train, y_train = X[:train_split], y[:train_split]\n",
    "X_test, y_test = X[train_split:], y[train_split:]\n",
    "\n",
    "len(X_train), len(X_test), len(y_train), len(y_test)"
   ]
  },
  {
   "cell_type": "code",
   "execution_count": 6,
   "metadata": {},
   "outputs": [],
   "source": [
    "def plot_predictions(train_data=X_train,\n",
    "                     train_labels=y_train,\n",
    "                     test_data=X_test,\n",
    "                     test_labels=y_test,\n",
    "                     predictions=None):\n",
    "    \n",
    "    \"\"\"\n",
    "    Plots training data, test data and compares predicitons.\n",
    "    \"\"\"\n",
    "    plt.figure(figsize=(10, 7))\n",
    "    # Plot training data in blue\n",
    "    plt.scatter(train_data, train_labels, c=\"b\", s=4, label=\"Training data\")\n",
    "    # Plot testing data in green\n",
    "    plt.scatter(test_data, test_labels, c=\"g\", s=4, label=\"Testing data\")\n",
    "    \n",
    "    # If there are any predictions, plot them too\n",
    "    if predictions is not None:\n",
    "        plt.scatter(test_data, predictions, c=\"r\", s=4, label=\"Predictions\")\n",
    "        \n",
    "    # Show the legend\n",
    "    plt.legend(prop={\"size\":14})"
   ]
  },
  {
   "cell_type": "code",
   "execution_count": 7,
   "metadata": {},
   "outputs": [
    {
     "data": {
      "image/png": "[encoded data removed]",
      "text/plain": [
       "<Figure size 1000x700 with 1 Axes>"
      ]
     },
     "metadata": {},
     "output_type": "display_data"
    }
   ],
   "source": [
    "plot_predictions()"
   ]
  },
  {
   "cell_type": "markdown",
   "metadata": {},
   "source": [
    "## Build first linear regression model\n",
    "\n",
    "What our model does:\n",
    "* Start with random values (weight&bias)\n",
    "* Look at training data and adjust the random values to better represent (or get closer to) the ideal values (the weight and bias values we used to create the data)\n",
    "\n",
    "How does it do so?\n",
    "\n",
    "Through two main algorithms:\n",
    "1. Gradient Descent\n",
    "2. Backpropagation "
   ]
  },
  {
   "cell_type": "code",
   "execution_count": 8,
   "metadata": {},
   "outputs": [],
   "source": [
    "# Create linear regression model class\n",
    "class LinearRegressionModel(nn.Module): # almost everything in Pytorch inherits from nn.Module\n",
    "    def __init__(self):\n",
    "        super().__init__()\n",
    "        self.weights = nn.Parameter(torch.randn(1, requires_grad=True, dtype=torch.float))\n",
    "        self.bias = nn.Parameter(torch.randn(1, requires_grad=True, dtype=torch.float))\n",
    "        \n",
    "    # Forward method to define the computation in the model\n",
    "    def forward(self, x:torch.Tensor)->torch.Tensor: # \"x\" is the input data\n",
    "        return self.weights * x + self.bias # This is the linear regression formula\n",
    "        "
   ]
  },
  {
   "cell_type": "markdown",
   "metadata": {},
   "source": [
    "### Pytorch model building essentials\n",
    "\n",
    "* torch.nn - contains all of the buildings for computational graphs (a neural network can be considered a computational graph)\n",
    "* torch.nn.Parameter - what parameters should our model try and learn, often a Pytorch layer from torch.nn will set these for us\n",
    "* torch.nn.Module - The base class for all neural network modules, if you subclass it, you should overwrite forward()\n",
    "* torch.optim - this is where the optimizers in PyTorch live, they will help with gradient descent\n",
    "* def forward() - All nn.Module subclasses require you to overwrite forward(), this method defines what happens in forward computation"
   ]
  },
  {
   "cell_type": "markdown",
   "metadata": {},
   "source": [
    "### Checking Pytorch Model Parameters"
   ]
  },
  {
   "cell_type": "code",
   "execution_count": 9,
   "metadata": {},
   "outputs": [
    {
     "data": {
      "text/plain": [
       "[Parameter containing:\n",
       " tensor([-0.6484], requires_grad=True),\n",
       " Parameter containing:\n",
       " tensor([-0.7058], requires_grad=True)]"
      ]
     },
     "execution_count": 9,
     "metadata": {},
     "output_type": "execute_result"
    }
   ],
   "source": [
    "# create a random seed\n",
    "torch.manual_seed(43)\n",
    "\n",
    "# create an instance of the model (this is a subclass of nn.module)\n",
    "model_0 = LinearRegressionModel()\n",
    "\n",
    "# check out the parameters\n",
    "list(model_0.parameters())"
   ]
  },
  {
   "cell_type": "code",
   "execution_count": 10,
   "metadata": {},
   "outputs": [
    {
     "data": {
      "text/plain": [
       "OrderedDict([('weights', tensor([-0.6484])), ('bias', tensor([-0.7058]))])"
      ]
     },
     "execution_count": 10,
     "metadata": {},
     "output_type": "execute_result"
    }
   ],
   "source": [
    "# list named parameters\n",
    "model_0.state_dict()"
   ]
  },
  {
   "cell_type": "markdown",
   "metadata": {},
   "source": [
    "### Making prediction using `torch.inference_mode()`\n",
    "\n",
    "To check our model's predictive power, let's see how well it predicts `y_test` based on `x_test`.\n",
    "When we pass data through our model, it's going to run it through the `forward()` method."
   ]
  },
  {
   "cell_type": "code",
   "execution_count": 11,
   "metadata": {},
   "outputs": [
    {
     "data": {
      "text/plain": [
       "tensor([[-1.2246],\n",
       "        [-1.2375],\n",
       "        [-1.2505],\n",
       "        [-1.2635],\n",
       "        [-1.2764],\n",
       "        [-1.2894],\n",
       "        [-1.3024],\n",
       "        [-1.3153],\n",
       "        [-1.3283],\n",
       "        [-1.3413]])"
      ]
     },
     "execution_count": 11,
     "metadata": {},
     "output_type": "execute_result"
    }
   ],
   "source": [
    "# make predictions with model\n",
    "with torch.inference_mode():\n",
    "    y_preds = model_0(X_test)\n",
    "\n",
    "y_preds"
   ]
  },
  {
   "cell_type": "code",
   "execution_count": 12,
   "metadata": {},
   "outputs": [
    {
     "data": {
      "text/plain": [
       "tensor([[0.8600],\n",
       "        [0.8740],\n",
       "        [0.8880],\n",
       "        [0.9020],\n",
       "        [0.9160],\n",
       "        [0.9300],\n",
       "        [0.9440],\n",
       "        [0.9580],\n",
       "        [0.9720],\n",
       "        [0.9860]])"
      ]
     },
     "execution_count": 12,
     "metadata": {},
     "output_type": "execute_result"
    }
   ],
   "source": [
    "y_test"
   ]
  },
  {
   "cell_type": "code",
   "execution_count": 13,
   "metadata": {},
   "outputs": [
    {
     "data": {
      "image/png": "[encoded data removed]",
      "text/plain": [
       "<Figure size 1000x700 with 1 Axes>"
      ]
     },
     "metadata": {},
     "output_type": "display_data"
    }
   ],
   "source": [
    "plot_predictions(predictions=y_preds)"
   ]
  },
  {
   "cell_type": "markdown",
   "metadata": {},
   "source": [
    "### 3. Train model\n",
    "\n",
    "The whole idea of training is for a model to move from some unknown parameters (these maybe random) to some know parameters.\n",
    "\n",
    "Or in other words from a poor representation of the data to a better representation of the data.\n",
    "\n",
    "One way to measure how poor or how wrong your models predictions are is to use loss function(cost function or criterion)\n",
    "\n",
    "Things we need to train:\n",
    "* Loss function: A function to measure how wrong your model's predictions are to the ideal outputs, lower is better\n",
    "* Optimizer: Takes into account the loss of a model and adjusts the model's parameters(e.g. weights and biases in our case) to  improve the loss function.\n",
    "\n",
    "And specially for pytorch, we need:\n",
    "* A training loop\n",
    "* A testing loop"
   ]
  },
  {
   "cell_type": "code",
   "execution_count": 14,
   "metadata": {},
   "outputs": [
    {
     "data": {
      "text/plain": [
       "[Parameter containing:\n",
       " tensor([-0.6484], requires_grad=True),\n",
       " Parameter containing:\n",
       " tensor([-0.7058], requires_grad=True)]"
      ]
     },
     "execution_count": 14,
     "metadata": {},
     "output_type": "execute_result"
    }
   ],
   "source": [
    "list(model_0.parameters())"
   ]
  },
  {
   "cell_type": "code",
   "execution_count": 15,
   "metadata": {},
   "outputs": [
    {
     "data": {
      "text/plain": [
       "OrderedDict([('weights', tensor([-0.6484])), ('bias', tensor([-0.7058]))])"
      ]
     },
     "execution_count": 15,
     "metadata": {},
     "output_type": "execute_result"
    }
   ],
   "source": [
    "model_0.state_dict()"
   ]
  },
  {
   "cell_type": "code",
   "execution_count": 16,
   "metadata": {},
   "outputs": [],
   "source": [
    "#setup a loss function\n",
    "loss_fn = nn.L1Loss()\n",
    "\n",
    "# setup an optimezer (stochastic gradient descent)\n",
    "optimizer = torch.optim.SGD(params=model_0.parameters(),\n",
    "                            lr=0.01) # lr = learning rate = possibly the most important hyperparameter you can set"
   ]
  },
  {
   "cell_type": "code",
   "execution_count": 17,
   "metadata": {},
   "outputs": [
    {
     "data": {
      "text/plain": [
       "L1Loss()"
      ]
     },
     "execution_count": 17,
     "metadata": {},
     "output_type": "execute_result"
    }
   ],
   "source": [
    "loss_fn"
   ]
  },
  {
   "cell_type": "code",
   "execution_count": 18,
   "metadata": {},
   "outputs": [
    {
     "data": {
      "text/plain": [
       "SGD (\n",
       "Parameter Group 0\n",
       "    dampening: 0\n",
       "    differentiable: False\n",
       "    foreach: None\n",
       "    fused: None\n",
       "    lr: 0.01\n",
       "    maximize: False\n",
       "    momentum: 0\n",
       "    nesterov: False\n",
       "    weight_decay: 0\n",
       ")"
      ]
     },
     "execution_count": 18,
     "metadata": {},
     "output_type": "execute_result"
    }
   ],
   "source": [
    "optimizer"
   ]
  },
  {
   "cell_type": "markdown",
   "metadata": {},
   "source": [
    "### Building a training and testing loop in pytorch\n",
    "\n",
    "A couple of things we need in a training loop:\n",
    "0. Loop through the data\n",
    "1. Forward pass (this involves data moving through our model's `forward()` methods) to make predictions on data - also called forward propagation.\n",
    "2. Calculate the loss (compare forward pass predictions to ground truth labels)\n",
    "3. Optimizer zero grad\n",
    "4. Loss backward - move backwards through the network to calculate the gradients of each of the parameters of our model with respect to the loss(**backpropagation**)\n",
    "5. Optimizer step - use the optimizer to adjust our model's parameters to try and improve the loss(**gradient descent**)"
   ]
  },
  {
   "cell_type": "code",
   "execution_count": 19,
   "metadata": {},
   "outputs": [
    {
     "name": "stdout",
     "output_type": "stream",
     "text": [
      "Epoch: 0| Loss: 1.5317178964614868| Test loss: 2.1924471855163574\n",
      "OrderedDict({'weights': tensor([-0.6445]), 'bias': tensor([-0.6958])})\n",
      "Epoch: 10| Loss: 1.4165079593658447| Test loss: 2.0577375888824463\n",
      "OrderedDict({'weights': tensor([-0.6055]), 'bias': tensor([-0.5958])})\n",
      "Epoch: 20| Loss: 1.3012980222702026| Test loss: 1.923027753829956\n",
      "OrderedDict({'weights': tensor([-0.5665]), 'bias': tensor([-0.4958])})\n",
      "Epoch: 30| Loss: 1.1860883235931396| Test loss: 1.7883180379867554\n",
      "OrderedDict({'weights': tensor([-0.5275]), 'bias': tensor([-0.3958])})\n",
      "Epoch: 40| Loss: 1.0708783864974976| Test loss: 1.6536080837249756\n",
      "OrderedDict({'weights': tensor([-0.4885]), 'bias': tensor([-0.2958])})\n",
      "Epoch: 50| Loss: 0.9556684494018555| Test loss: 1.5188981294631958\n",
      "OrderedDict({'weights': tensor([-0.4495]), 'bias': tensor([-0.1958])})\n",
      "Epoch: 60| Loss: 0.8404583930969238| Test loss: 1.3841882944107056\n",
      "OrderedDict({'weights': tensor([-0.4105]), 'bias': tensor([-0.0958])})\n",
      "Epoch: 70| Loss: 0.725248396396637| Test loss: 1.2494783401489258\n",
      "OrderedDict({'weights': tensor([-0.3715]), 'bias': tensor([0.0042])})\n",
      "Epoch: 80| Loss: 0.6100384593009949| Test loss: 1.114768385887146\n",
      "OrderedDict({'weights': tensor([-0.3325]), 'bias': tensor([0.1042])})\n",
      "Epoch: 90| Loss: 0.4948285222053528| Test loss: 0.980058491230011\n",
      "OrderedDict({'weights': tensor([-0.2935]), 'bias': tensor([0.2042])})\n",
      "Epoch: 100| Loss: 0.3796185553073883| Test loss: 0.8453486561775208\n",
      "OrderedDict({'weights': tensor([-0.2545]), 'bias': tensor([0.3042])})\n",
      "Epoch: 110| Loss: 0.2882431149482727| Test loss: 0.7259945869445801\n",
      "OrderedDict({'weights': tensor([-0.2159]), 'bias': tensor([0.3892])})\n",
      "Epoch: 120| Loss: 0.23128218948841095| Test loss: 0.6293405294418335\n",
      "OrderedDict({'weights': tensor([-0.1792]), 'bias': tensor([0.4532])})\n",
      "Epoch: 130| Loss: 0.19670966267585754| Test loss: 0.5527850985527039\n",
      "OrderedDict({'weights': tensor([-0.1454]), 'bias': tensor([0.4997])})\n",
      "Epoch: 140| Loss: 0.1756475865840912| Test loss: 0.49311336874961853\n",
      "OrderedDict({'weights': tensor([-0.1149]), 'bias': tensor([0.5322])})\n",
      "Epoch: 150| Loss: 0.1628715693950653| Test loss: 0.44654950499534607\n",
      "OrderedDict({'weights': tensor([-0.0873]), 'bias': tensor([0.5542])})\n",
      "Epoch: 160| Loss: 0.15468016266822815| Test loss: 0.4115487039089203\n",
      "OrderedDict({'weights': tensor([-0.0626]), 'bias': tensor([0.5672])})\n",
      "Epoch: 170| Loss: 0.14885053038597107| Test loss: 0.3844168186187744\n",
      "OrderedDict({'weights': tensor([-0.0400]), 'bias': tensor([0.5742])})\n",
      "Epoch: 180| Loss: 0.14416635036468506| Test loss: 0.3626020550727844\n",
      "OrderedDict({'weights': tensor([-0.0188]), 'bias': tensor([0.5772])})\n",
      "Epoch: 190| Loss: 0.14016637206077576| Test loss: 0.34480205178260803\n",
      "OrderedDict({'weights': tensor([0.0012]), 'bias': tensor([0.5772])})\n",
      "Epoch: 200| Loss: 0.1364736258983612| Test loss: 0.33174824714660645\n",
      "OrderedDict({'weights': tensor([0.0198]), 'bias': tensor([0.5737])})\n",
      "Epoch: 210| Loss: 0.13298361003398895| Test loss: 0.32072848081588745\n",
      "OrderedDict({'weights': tensor([0.0378]), 'bias': tensor([0.5687])})\n",
      "Epoch: 220| Loss: 0.1294936090707779| Test loss: 0.30970868468284607\n",
      "OrderedDict({'weights': tensor([0.0558]), 'bias': tensor([0.5637])})\n",
      "Epoch: 230| Loss: 0.12600359320640564| Test loss: 0.2986888885498047\n",
      "OrderedDict({'weights': tensor([0.0738]), 'bias': tensor([0.5587])})\n",
      "Epoch: 240| Loss: 0.12251357734203339| Test loss: 0.2876691222190857\n",
      "OrderedDict({'weights': tensor([0.0918]), 'bias': tensor([0.5537])})\n",
      "Epoch: 250| Loss: 0.11903637647628784| Test loss: 0.2773362398147583\n",
      "OrderedDict({'weights': tensor([0.1096]), 'bias': tensor([0.5482])})\n",
      "Epoch: 260| Loss: 0.11560370028018951| Test loss: 0.26975080370903015\n",
      "OrderedDict({'weights': tensor([0.1265]), 'bias': tensor([0.5407])})\n",
      "Epoch: 270| Loss: 0.11217156797647476| Test loss: 0.2614784836769104\n",
      "OrderedDict({'weights': tensor([0.1437]), 'bias': tensor([0.5337])})\n",
      "Epoch: 280| Loss: 0.10873277485370636| Test loss: 0.25320616364479065\n",
      "OrderedDict({'weights': tensor([0.1608]), 'bias': tensor([0.5267])})\n",
      "Epoch: 290| Loss: 0.10530173778533936| Test loss: 0.2456207275390625\n",
      "OrderedDict({'weights': tensor([0.1778]), 'bias': tensor([0.5192])})\n",
      "Epoch: 300| Loss: 0.10186795145273209| Test loss: 0.23734840750694275\n",
      "OrderedDict({'weights': tensor([0.1949]), 'bias': tensor([0.5122])})\n",
      "Epoch: 310| Loss: 0.09842914342880249| Test loss: 0.2290761023759842\n",
      "OrderedDict({'weights': tensor([0.2121]), 'bias': tensor([0.5052])})\n",
      "Epoch: 320| Loss: 0.09499979764223099| Test loss: 0.22149059176445007\n",
      "OrderedDict({'weights': tensor([0.2290]), 'bias': tensor([0.4977])})\n",
      "Epoch: 330| Loss: 0.0915643572807312| Test loss: 0.21321812272071838\n",
      "OrderedDict({'weights': tensor([0.2462]), 'bias': tensor([0.4907])})\n",
      "Epoch: 340| Loss: 0.08812632411718369| Test loss: 0.20563247799873352\n",
      "OrderedDict({'weights': tensor([0.2632]), 'bias': tensor([0.4832])})\n",
      "Epoch: 350| Loss: 0.08469787985086441| Test loss: 0.19735991954803467\n",
      "OrderedDict({'weights': tensor([0.2803]), 'bias': tensor([0.4762])})\n",
      "Epoch: 360| Loss: 0.08126073330640793| Test loss: 0.1890873908996582\n",
      "OrderedDict({'weights': tensor([0.2975]), 'bias': tensor([0.4692])})\n",
      "Epoch: 370| Loss: 0.07782439142465591| Test loss: 0.18150171637535095\n",
      "OrderedDict({'weights': tensor([0.3144]), 'bias': tensor([0.4617])})\n",
      "Epoch: 380| Loss: 0.07439593225717545| Test loss: 0.1732291877269745\n",
      "OrderedDict({'weights': tensor([0.3316]), 'bias': tensor([0.4547])})\n",
      "Epoch: 390| Loss: 0.07095711678266525| Test loss: 0.16495664417743683\n",
      "OrderedDict({'weights': tensor([0.3487]), 'bias': tensor([0.4477])})\n",
      "Epoch: 400| Loss: 0.06752245873212814| Test loss: 0.15737095475196838\n",
      "OrderedDict({'weights': tensor([0.3657]), 'bias': tensor([0.4402])})\n",
      "Epoch: 410| Loss: 0.06409230828285217| Test loss: 0.1490984559059143\n",
      "OrderedDict({'weights': tensor([0.3829]), 'bias': tensor([0.4332])})\n",
      "Epoch: 420| Loss: 0.06065349653363228| Test loss: 0.14082589745521545\n",
      "OrderedDict({'weights': tensor([0.4000]), 'bias': tensor([0.4262])})\n",
      "Epoch: 430| Loss: 0.05722053721547127| Test loss: 0.1332402378320694\n",
      "OrderedDict({'weights': tensor([0.4170]), 'bias': tensor([0.4187])})\n",
      "Epoch: 440| Loss: 0.0537886843085289| Test loss: 0.12496769428253174\n",
      "OrderedDict({'weights': tensor([0.4341]), 'bias': tensor([0.4117])})\n",
      "Epoch: 450| Loss: 0.0503498800098896| Test loss: 0.11669515073299408\n",
      "OrderedDict({'weights': tensor([0.4513]), 'bias': tensor([0.4047])})\n",
      "Epoch: 460| Loss: 0.0469185933470726| Test loss: 0.10910949856042862\n",
      "OrderedDict({'weights': tensor([0.4682]), 'bias': tensor([0.3972])})\n",
      "Epoch: 470| Loss: 0.043485067784786224| Test loss: 0.10083694756031036\n",
      "OrderedDict({'weights': tensor([0.4854]), 'bias': tensor([0.3902])})\n",
      "Epoch: 480| Loss: 0.040046267211437225| Test loss: 0.09256444126367569\n",
      "OrderedDict({'weights': tensor([0.5026]), 'bias': tensor([0.3832])})\n",
      "Epoch: 490| Loss: 0.036616671830415726| Test loss: 0.08497877418994904\n",
      "OrderedDict({'weights': tensor([0.5195]), 'bias': tensor([0.3757])})\n",
      "Epoch: 500| Loss: 0.03318145126104355| Test loss: 0.07670623809099197\n",
      "OrderedDict({'weights': tensor([0.5367]), 'bias': tensor([0.3687])})\n",
      "Epoch: 510| Loss: 0.02974317967891693| Test loss: 0.06912057846784592\n",
      "OrderedDict({'weights': tensor([0.5536]), 'bias': tensor([0.3612])})\n",
      "Epoch: 520| Loss: 0.026314735412597656| Test loss: 0.06084802746772766\n",
      "OrderedDict({'weights': tensor([0.5708]), 'bias': tensor([0.3542])})\n",
      "Epoch: 530| Loss: 0.022877831012010574| Test loss: 0.052575498819351196\n",
      "OrderedDict({'weights': tensor([0.5879]), 'bias': tensor([0.3472])})\n",
      "Epoch: 540| Loss: 0.01944124326109886| Test loss: 0.04498983174562454\n",
      "OrderedDict({'weights': tensor([0.6049]), 'bias': tensor([0.3397])})\n",
      "Epoch: 550| Loss: 0.016012802720069885| Test loss: 0.03671729564666748\n",
      "OrderedDict({'weights': tensor([0.6220]), 'bias': tensor([0.3327])})\n",
      "Epoch: 560| Loss: 0.012574215419590473| Test loss: 0.028444742783904076\n",
      "OrderedDict({'weights': tensor([0.6392]), 'bias': tensor([0.3257])})\n",
      "Epoch: 570| Loss: 0.009139311499893665| Test loss: 0.020859068259596825\n",
      "OrderedDict({'weights': tensor([0.6562]), 'bias': tensor([0.3182])})\n",
      "Epoch: 580| Loss: 0.005709405988454819| Test loss: 0.01258655171841383\n",
      "OrderedDict({'weights': tensor([0.6733]), 'bias': tensor([0.3112])})\n",
      "Epoch: 590| Loss: 0.0022705979645252228| Test loss: 0.00431398767977953\n",
      "OrderedDict({'weights': tensor([0.6905]), 'bias': tensor([0.3042])})\n",
      "Epoch: 600| Loss: 0.0025017051957547665| Test loss: 0.008199160918593407\n",
      "OrderedDict({'weights': tensor([0.6984]), 'bias': tensor([0.3097])})\n",
      "Epoch: 610| Loss: 0.0025017051957547665| Test loss: 0.008199160918593407\n",
      "OrderedDict({'weights': tensor([0.6984]), 'bias': tensor([0.3097])})\n",
      "Epoch: 620| Loss: 0.0025017051957547665| Test loss: 0.008199160918593407\n",
      "OrderedDict({'weights': tensor([0.6984]), 'bias': tensor([0.3097])})\n",
      "Epoch: 630| Loss: 0.0025017051957547665| Test loss: 0.008199160918593407\n",
      "OrderedDict({'weights': tensor([0.6984]), 'bias': tensor([0.3097])})\n",
      "Epoch: 640| Loss: 0.0025017051957547665| Test loss: 0.008199160918593407\n",
      "OrderedDict({'weights': tensor([0.6984]), 'bias': tensor([0.3097])})\n",
      "Epoch: 650| Loss: 0.0025017051957547665| Test loss: 0.008199160918593407\n",
      "OrderedDict({'weights': tensor([0.6984]), 'bias': tensor([0.3097])})\n",
      "Epoch: 660| Loss: 0.0025017051957547665| Test loss: 0.008199160918593407\n",
      "OrderedDict({'weights': tensor([0.6984]), 'bias': tensor([0.3097])})\n",
      "Epoch: 670| Loss: 0.0025017051957547665| Test loss: 0.008199160918593407\n",
      "OrderedDict({'weights': tensor([0.6984]), 'bias': tensor([0.3097])})\n",
      "Epoch: 680| Loss: 0.0025017051957547665| Test loss: 0.008199160918593407\n",
      "OrderedDict({'weights': tensor([0.6984]), 'bias': tensor([0.3097])})\n",
      "Epoch: 690| Loss: 0.0025017051957547665| Test loss: 0.008199160918593407\n",
      "OrderedDict({'weights': tensor([0.6984]), 'bias': tensor([0.3097])})\n",
      "Epoch: 700| Loss: 0.0025017051957547665| Test loss: 0.008199160918593407\n",
      "OrderedDict({'weights': tensor([0.6984]), 'bias': tensor([0.3097])})\n",
      "Epoch: 710| Loss: 0.0025017051957547665| Test loss: 0.008199160918593407\n",
      "OrderedDict({'weights': tensor([0.6984]), 'bias': tensor([0.3097])})\n",
      "Epoch: 720| Loss: 0.0025017051957547665| Test loss: 0.008199160918593407\n",
      "OrderedDict({'weights': tensor([0.6984]), 'bias': tensor([0.3097])})\n",
      "Epoch: 730| Loss: 0.0025017051957547665| Test loss: 0.008199160918593407\n",
      "OrderedDict({'weights': tensor([0.6984]), 'bias': tensor([0.3097])})\n",
      "Epoch: 740| Loss: 0.0025017051957547665| Test loss: 0.008199160918593407\n",
      "OrderedDict({'weights': tensor([0.6984]), 'bias': tensor([0.3097])})\n",
      "Epoch: 750| Loss: 0.0025017051957547665| Test loss: 0.008199160918593407\n",
      "OrderedDict({'weights': tensor([0.6984]), 'bias': tensor([0.3097])})\n",
      "Epoch: 760| Loss: 0.0025017051957547665| Test loss: 0.008199160918593407\n",
      "OrderedDict({'weights': tensor([0.6984]), 'bias': tensor([0.3097])})\n",
      "Epoch: 770| Loss: 0.0025017051957547665| Test loss: 0.008199160918593407\n",
      "OrderedDict({'weights': tensor([0.6984]), 'bias': tensor([0.3097])})\n",
      "Epoch: 780| Loss: 0.0025017051957547665| Test loss: 0.008199160918593407\n",
      "OrderedDict({'weights': tensor([0.6984]), 'bias': tensor([0.3097])})\n",
      "Epoch: 790| Loss: 0.0025017051957547665| Test loss: 0.008199160918593407\n",
      "OrderedDict({'weights': tensor([0.6984]), 'bias': tensor([0.3097])})\n",
      "Epoch: 800| Loss: 0.0025017051957547665| Test loss: 0.008199160918593407\n",
      "OrderedDict({'weights': tensor([0.6984]), 'bias': tensor([0.3097])})\n",
      "Epoch: 810| Loss: 0.0025017051957547665| Test loss: 0.008199160918593407\n",
      "OrderedDict({'weights': tensor([0.6984]), 'bias': tensor([0.3097])})\n",
      "Epoch: 820| Loss: 0.0025017051957547665| Test loss: 0.008199160918593407\n",
      "OrderedDict({'weights': tensor([0.6984]), 'bias': tensor([0.3097])})\n",
      "Epoch: 830| Loss: 0.0025017051957547665| Test loss: 0.008199160918593407\n",
      "OrderedDict({'weights': tensor([0.6984]), 'bias': tensor([0.3097])})\n",
      "Epoch: 840| Loss: 0.0025017051957547665| Test loss: 0.008199160918593407\n",
      "OrderedDict({'weights': tensor([0.6984]), 'bias': tensor([0.3097])})\n",
      "Epoch: 850| Loss: 0.0025017051957547665| Test loss: 0.008199160918593407\n",
      "OrderedDict({'weights': tensor([0.6984]), 'bias': tensor([0.3097])})\n",
      "Epoch: 860| Loss: 0.0025017051957547665| Test loss: 0.008199160918593407\n",
      "OrderedDict({'weights': tensor([0.6984]), 'bias': tensor([0.3097])})\n",
      "Epoch: 870| Loss: 0.0025017051957547665| Test loss: 0.008199160918593407\n",
      "OrderedDict({'weights': tensor([0.6984]), 'bias': tensor([0.3097])})\n",
      "Epoch: 880| Loss: 0.0025017051957547665| Test loss: 0.008199160918593407\n",
      "OrderedDict({'weights': tensor([0.6984]), 'bias': tensor([0.3097])})\n",
      "Epoch: 890| Loss: 0.0025017051957547665| Test loss: 0.008199160918593407\n",
      "OrderedDict({'weights': tensor([0.6984]), 'bias': tensor([0.3097])})\n",
      "Epoch: 900| Loss: 0.0025017051957547665| Test loss: 0.008199160918593407\n",
      "OrderedDict({'weights': tensor([0.6984]), 'bias': tensor([0.3097])})\n",
      "Epoch: 910| Loss: 0.0025017051957547665| Test loss: 0.008199160918593407\n",
      "OrderedDict({'weights': tensor([0.6984]), 'bias': tensor([0.3097])})\n",
      "Epoch: 920| Loss: 0.0025017051957547665| Test loss: 0.008199160918593407\n",
      "OrderedDict({'weights': tensor([0.6984]), 'bias': tensor([0.3097])})\n",
      "Epoch: 930| Loss: 0.0025017051957547665| Test loss: 0.008199160918593407\n",
      "OrderedDict({'weights': tensor([0.6984]), 'bias': tensor([0.3097])})\n",
      "Epoch: 940| Loss: 0.0025017051957547665| Test loss: 0.008199160918593407\n",
      "OrderedDict({'weights': tensor([0.6984]), 'bias': tensor([0.3097])})\n",
      "Epoch: 950| Loss: 0.0025017051957547665| Test loss: 0.008199160918593407\n",
      "OrderedDict({'weights': tensor([0.6984]), 'bias': tensor([0.3097])})\n",
      "Epoch: 960| Loss: 0.0025017051957547665| Test loss: 0.008199160918593407\n",
      "OrderedDict({'weights': tensor([0.6984]), 'bias': tensor([0.3097])})\n",
      "Epoch: 970| Loss: 0.0025017051957547665| Test loss: 0.008199160918593407\n",
      "OrderedDict({'weights': tensor([0.6984]), 'bias': tensor([0.3097])})\n",
      "Epoch: 980| Loss: 0.0025017051957547665| Test loss: 0.008199160918593407\n",
      "OrderedDict({'weights': tensor([0.6984]), 'bias': tensor([0.3097])})\n",
      "Epoch: 990| Loss: 0.0025017051957547665| Test loss: 0.008199160918593407\n",
      "OrderedDict({'weights': tensor([0.6984]), 'bias': tensor([0.3097])})\n"
     ]
    }
   ],
   "source": [
    "# An epoch is one loop through the data...\n",
    "epochs = 1000\n",
    "\n",
    "# Track different values\n",
    "epoch_count = []\n",
    "loss_values = []\n",
    "test_loss_values = []\n",
    "# 0. Loop through the data\n",
    "for epoch in range(epochs):\n",
    "    # set the model to the training mode\n",
    "    model_0.train() # train mode in Pytorch sets all parameters that require gradients to require gradients\n",
    "    \n",
    "    # 1. Forward pass\n",
    "    y_pred = model_0(X_train)\n",
    "    \n",
    "    # 2. Calculate the loss\n",
    "    loss = loss_fn(y_pred, y_train)\n",
    "    \n",
    "    # 3. Optimizer zero grad\n",
    "    optimizer.zero_grad()\n",
    "    \n",
    "    # 4. Perform backpropagation on the loss with the respect to the parameters of the model\n",
    "    loss.backward()\n",
    "    \n",
    "    # 5. Step the optimizer (perform gradient descent)\n",
    "    optimizer.step() # by default how the optimizer changes will accumulate through the loop so...we have to zero them above in step 3 for the next iteration of the loop\n",
    "    \n",
    "    # testing\n",
    "    model_0.eval() # turns off different settings in the model not needed for evaluation/testing (dropout/batch norm layers)\n",
    "    with torch.inference_mode(): # turns off gradient tracking & a couple more things behind the scenes\n",
    "        # 1. do the forward pass\n",
    "        test_pred = model_0(X_test)\n",
    "        \n",
    "        # 2. calculate the loss\n",
    "        test_loss = loss_fn(test_pred, y_test)\n",
    "    if epoch % 10 == 0:\n",
    "        epoch_count.append(epoch)\n",
    "        loss_values.append(loss)\n",
    "        test_loss_values.append(test_loss)\n",
    "        print(f\"Epoch: {epoch}| Loss: {loss}| Test loss: {test_loss}\")\n",
    "        print(model_0.state_dict())"
   ]
  },
  {
   "cell_type": "code",
   "execution_count": 20,
   "metadata": {},
   "outputs": [
    {
     "data": {
      "image/png": "[encoded data removed]",
      "text/plain": [
       "<Figure size 640x480 with 1 Axes>"
      ]
     },
     "metadata": {},
     "output_type": "display_data"
    }
   ],
   "source": [
    "# Plot the loss curves\n",
    "import numpy as np\n",
    "plt.plot(epoch_count, np.array(torch.tensor(loss_values).numpy()), label=\"Train loss\")\n",
    "plt.plot(epoch_count, test_loss_values, label=\"Test loss\")\n",
    "plt.title(\"Training and test loss curves\")\n",
    "plt.ylabel(\"Loss\")\n",
    "plt.xlabel(\"Epochs\")\n",
    "plt.legend();"
   ]
  },
  {
   "cell_type": "markdown",
   "metadata": {},
   "source": [
    "### Saving a model in Pytorch\n",
    "\n",
    "1. `torch.save()` - allows you save a PyTorch object in python's pickle format.\n",
    "2. `torch.load()` - allows you load a saved PyTorch object\n",
    "3. `torch.nn.Module.load_state_dict()` - this allows to load model's saved state dictionary"
   ]
  },
  {
   "cell_type": "code",
   "execution_count": 21,
   "metadata": {},
   "outputs": [
    {
     "name": "stdout",
     "output_type": "stream",
     "text": [
      "Saving model to: models\\01_pytorch_workflow_model_0.pth\n"
     ]
    }
   ],
   "source": [
    "# saving our pytorch model\n",
    "from pathlib import Path\n",
    "\n",
    "# 1. create models directory\n",
    "MODEL_PATH = Path(\"models\")\n",
    "MODEL_PATH.mkdir(parents=True, exist_ok=True)\n",
    "\n",
    "# 2. create model save path\n",
    "MODEL_NAME = \"01_pytorch_workflow_model_0.pth\"\n",
    "MODEL_SAVE_PATH = MODEL_PATH / MODEL_NAME\n",
    "\n",
    "# 3. Save the model state dict\n",
    "print(f\"Saving model to: {MODEL_SAVE_PATH}\")\n",
    "torch.save(obj=model_0.state_dict(),\n",
    "           f=MODEL_SAVE_PATH)"
   ]
  },
  {
   "cell_type": "markdown",
   "metadata": {},
   "source": [
    "### Loading a PyTorch model\n",
    "\n",
    "Since we saved our model's `state_dict()` rather the entire model, we'll create a new instance of our model class and load the saved `state_dict()` into that."
   ]
  },
  {
   "cell_type": "code",
   "execution_count": 22,
   "metadata": {},
   "outputs": [
    {
     "data": {
      "text/plain": [
       "OrderedDict([('weights', tensor([0.6945])), ('bias', tensor([0.2997]))])"
      ]
     },
     "execution_count": 22,
     "metadata": {},
     "output_type": "execute_result"
    }
   ],
   "source": [
    "model_0.state_dict()"
   ]
  },
  {
   "cell_type": "code",
   "execution_count": 23,
   "metadata": {},
   "outputs": [
    {
     "data": {
      "text/plain": [
       "<All keys matched successfully>"
      ]
     },
     "execution_count": 23,
     "metadata": {},
     "output_type": "execute_result"
    }
   ],
   "source": [
    "# To load in a saved state_dict() we have to instantiate a new instance of our model class\n",
    "loaded_model_0 = LinearRegressionModel()\n",
    "\n",
    "# Load the saved state_dict of model_0 (this will update the new instance with updated parameters)\n",
    "loaded_model_0.load_state_dict(torch.load(f=MODEL_SAVE_PATH))"
   ]
  },
  {
   "cell_type": "code",
   "execution_count": 24,
   "metadata": {},
   "outputs": [
    {
     "data": {
      "text/plain": [
       "OrderedDict([('weights', tensor([0.6945])), ('bias', tensor([0.2997]))])"
      ]
     },
     "execution_count": 24,
     "metadata": {},
     "output_type": "execute_result"
    }
   ],
   "source": [
    "loaded_model_0.state_dict()"
   ]
  },
  {
   "cell_type": "code",
   "execution_count": 25,
   "metadata": {},
   "outputs": [
    {
     "data": {
      "text/plain": [
       "tensor([[0.8552],\n",
       "        [0.8691],\n",
       "        [0.8830],\n",
       "        [0.8969],\n",
       "        [0.9108],\n",
       "        [0.9247],\n",
       "        [0.9386],\n",
       "        [0.9525],\n",
       "        [0.9663],\n",
       "        [0.9802]])"
      ]
     },
     "execution_count": 25,
     "metadata": {},
     "output_type": "execute_result"
    }
   ],
   "source": [
    "# Make some predictions with our loaded model\n",
    "loaded_model_0.eval()\n",
    "with torch.inference_mode():\n",
    "    loaded_model_preds = loaded_model_0(X_test)\n",
    "    \n",
    "loaded_model_preds"
   ]
  },
  {
   "cell_type": "code",
   "execution_count": 26,
   "metadata": {},
   "outputs": [
    {
     "data": {
      "text/plain": [
       "tensor([[0.8552],\n",
       "        [0.8691],\n",
       "        [0.8830],\n",
       "        [0.8969],\n",
       "        [0.9108],\n",
       "        [0.9247],\n",
       "        [0.9386],\n",
       "        [0.9525],\n",
       "        [0.9663],\n",
       "        [0.9802]])"
      ]
     },
     "execution_count": 26,
     "metadata": {},
     "output_type": "execute_result"
    }
   ],
   "source": [
    "# Make some models preds\n",
    "model_0.eval()\n",
    "with torch.inference_mode():\n",
    "    y_preds = model_0(X_test)\n",
    "\n",
    "y_preds"
   ]
  },
  {
   "cell_type": "code",
   "execution_count": 27,
   "metadata": {},
   "outputs": [
    {
     "data": {
      "text/plain": [
       "tensor([[True],\n",
       "        [True],\n",
       "        [True],\n",
       "        [True],\n",
       "        [True],\n",
       "        [True],\n",
       "        [True],\n",
       "        [True],\n",
       "        [True],\n",
       "        [True]])"
      ]
     },
     "execution_count": 27,
     "metadata": {},
     "output_type": "execute_result"
    }
   ],
   "source": [
    "y_preds == loaded_model_preds"
   ]
  },
  {
   "cell_type": "markdown",
   "metadata": {},
   "source": [
    "## 6. Putting it all together\n",
    "\n",
    "Let's go back through the steps above and see it all in one place."
   ]
  },
  {
   "cell_type": "code",
   "execution_count": 28,
   "metadata": {},
   "outputs": [
    {
     "data": {
      "text/plain": [
       "'2.7.0+cpu'"
      ]
     },
     "execution_count": 28,
     "metadata": {},
     "output_type": "execute_result"
    }
   ],
   "source": [
    "# Import Libraries\n",
    "import torch\n",
    "from torch import nn\n",
    "import matplotlib.pyplot as plt\n",
    "\n",
    "torch.__version__"
   ]
  },
  {
   "cell_type": "markdown",
   "metadata": {},
   "source": [
    "Create device-agnostic code.\n",
    "This means if we've got access to a GPU, our code will use it(for potentially faster computing).\n",
    "If no GPU is available, the code will default to using CPU. "
   ]
  },
  {
   "cell_type": "code",
   "execution_count": 29,
   "metadata": {},
   "outputs": [
    {
     "name": "stdout",
     "output_type": "stream",
     "text": [
      "Using device: cpu\n"
     ]
    }
   ],
   "source": [
    "# setup device agnostic code\n",
    "device = \"cuda\" if torch.cuda.is_available() else \"cpu\"\n",
    "print(f\"Using device: {device}\")"
   ]
  },
  {
   "cell_type": "markdown",
   "metadata": {},
   "source": [
    "### 6.1 Data"
   ]
  },
  {
   "cell_type": "code",
   "execution_count": 32,
   "metadata": {},
   "outputs": [
    {
     "data": {
      "text/plain": [
       "(tensor([[0.0000],\n",
       "         [0.0200],\n",
       "         [0.0400],\n",
       "         [0.0600],\n",
       "         [0.0800],\n",
       "         [0.1000],\n",
       "         [0.1200],\n",
       "         [0.1400],\n",
       "         [0.1600],\n",
       "         [0.1800]]),\n",
       " tensor([[0.3000],\n",
       "         [0.3140],\n",
       "         [0.3280],\n",
       "         [0.3420],\n",
       "         [0.3560],\n",
       "         [0.3700],\n",
       "         [0.3840],\n",
       "         [0.3980],\n",
       "         [0.4120],\n",
       "         [0.4260]]))"
      ]
     },
     "execution_count": 32,
     "metadata": {},
     "output_type": "execute_result"
    }
   ],
   "source": [
    "# Create some data using the linear regression formula of y = weight * Y + bias\n",
    "weight = 0.7\n",
    "bias = 0.3\n",
    "\n",
    "# Create range values\n",
    "start = 0\n",
    "end = 1\n",
    "step = 0.02\n",
    "\n",
    "# Create X and y (features and labels)\n",
    "X = torch.arange(start, end, step).unsqueeze(dim=1)\n",
    "y = weight*X + bias\n",
    "X[:10], y[:10]"
   ]
  },
  {
   "cell_type": "code",
   "execution_count": 33,
   "metadata": {},
   "outputs": [
    {
     "data": {
      "text/plain": [
       "(40, 10, 40, 10)"
      ]
     },
     "execution_count": 33,
     "metadata": {},
     "output_type": "execute_result"
    }
   ],
   "source": [
    "# Split data\n",
    "train_split = int(0.8 * len(X))\n",
    "X_train , y_train = X[:train_split], y[:train_split]\n",
    "X_test , y_test = X[train_split:], y[train_split:]\n",
    "len(X_train), len(X_test), len(y_train), len(y_test)"
   ]
  },
  {
   "cell_type": "code",
   "execution_count": 34,
   "metadata": {},
   "outputs": [
    {
     "data": {
      "image/png": "[encoded data removed]",
      "text/plain": [
       "<Figure size 1000x700 with 1 Axes>"
      ]
     },
     "metadata": {},
     "output_type": "display_data"
    }
   ],
   "source": [
    "# plot the data\n",
    "plot_predictions(X_train, y_train, X_test, y_test)"
   ]
  },
  {
   "cell_type": "markdown",
   "metadata": {},
   "source": [
    "### Build a PyTorch linear model"
   ]
  },
  {
   "cell_type": "code",
   "execution_count": 35,
   "metadata": {},
   "outputs": [
    {
     "data": {
      "text/plain": [
       "(LinearRegressionModelV2(\n",
       "   (linear_layer): Linear(in_features=1, out_features=1, bias=True)\n",
       " ),\n",
       " OrderedDict([('linear_layer.weight', tensor([[0.7645]])),\n",
       "              ('linear_layer.bias', tensor([0.8300]))]))"
      ]
     },
     "execution_count": 35,
     "metadata": {},
     "output_type": "execute_result"
    }
   ],
   "source": [
    "# Creating a linear model by subclassing nn.Module\n",
    "class LinearRegressionModelV2(nn.Module):\n",
    "    def __init__(self):\n",
    "        super().__init__()\n",
    "        # Use nn.Linear() for creating the model parameters\n",
    "        self.linear_layer = nn.Linear(in_features=1, out_features=1)\n",
    "        \n",
    "    def forward(self, x: torch.Tensor) -> torch.Tensor:\n",
    "        return self.linear_layer(x)\n",
    "    \n",
    "# Set the manual seed\n",
    "torch.manual_seed(42)\n",
    "\n",
    "model_1 = LinearRegressionModelV2()\n",
    "model_1, model_1.state_dict()"
   ]
  },
  {
   "cell_type": "code",
   "execution_count": 36,
   "metadata": {},
   "outputs": [
    {
     "data": {
      "text/plain": [
       "device(type='cpu')"
      ]
     },
     "execution_count": 36,
     "metadata": {},
     "output_type": "execute_result"
    }
   ],
   "source": [
    "# Check the model current device\n",
    "next(model_1.parameters()).device"
   ]
  },
  {
   "cell_type": "code",
   "execution_count": 38,
   "metadata": {},
   "outputs": [
    {
     "data": {
      "text/plain": [
       "device(type='cpu')"
      ]
     },
     "execution_count": 38,
     "metadata": {},
     "output_type": "execute_result"
    }
   ],
   "source": [
    "# Set the model to use the target device(it's necessary when you want to use GPU instead of CPU for calculations)\n",
    "model_1.to(device)\n",
    "next(model_1.parameters()).device # i don't access to GPU, so it just uses the CPU"
   ]
  },
  {
   "cell_type": "code",
   "execution_count": 39,
   "metadata": {},
   "outputs": [
    {
     "data": {
      "text/plain": [
       "OrderedDict([('linear_layer.weight', tensor([[0.7645]])),\n",
       "             ('linear_layer.bias', tensor([0.8300]))])"
      ]
     },
     "execution_count": 39,
     "metadata": {},
     "output_type": "execute_result"
    }
   ],
   "source": [
    "model_1.state_dict()"
   ]
  },
  {
   "cell_type": "markdown",
   "metadata": {},
   "source": [
    "### 6.3 Training\n",
    "\n",
    "For training we need:\n",
    "\n",
    "*   Loss function\n",
    "*   Optimizer\n",
    "*   Training Loop\n",
    "*   Testing Loop"
   ]
  },
  {
   "cell_type": "code",
   "execution_count": 40,
   "metadata": {},
   "outputs": [],
   "source": [
    "# Setup loss function\n",
    "loss_fn = nn.L1Loss()\n",
    "\n",
    "# Setup our optimizer\n",
    "optimizer = torch.optim.SGD(params=model_1.parameters(), lr=0.01)"
   ]
  },
  {
   "cell_type": "code",
   "execution_count": 42,
   "metadata": {},
   "outputs": [
    {
     "name": "stdout",
     "output_type": "stream",
     "text": [
      "Epoch: 0 | Loss: 0.0012645035749301314 | Test Loss: 0.013801807537674904\n",
      "Epoch: 10 | Loss: 0.0012645035749301314 | Test Loss: 0.013801807537674904\n",
      "Epoch: 20 | Loss: 0.0012645035749301314 | Test Loss: 0.013801807537674904\n",
      "Epoch: 30 | Loss: 0.0012645035749301314 | Test Loss: 0.013801807537674904\n",
      "Epoch: 40 | Loss: 0.0012645035749301314 | Test Loss: 0.013801807537674904\n",
      "Epoch: 50 | Loss: 0.0012645035749301314 | Test Loss: 0.013801807537674904\n",
      "Epoch: 60 | Loss: 0.0012645035749301314 | Test Loss: 0.013801807537674904\n",
      "Epoch: 70 | Loss: 0.0012645035749301314 | Test Loss: 0.013801807537674904\n",
      "Epoch: 80 | Loss: 0.0012645035749301314 | Test Loss: 0.013801807537674904\n",
      "Epoch: 90 | Loss: 0.0012645035749301314 | Test Loss: 0.013801807537674904\n",
      "Epoch: 100 | Loss: 0.0012645035749301314 | Test Loss: 0.013801807537674904\n",
      "Epoch: 110 | Loss: 0.0012645035749301314 | Test Loss: 0.013801807537674904\n",
      "Epoch: 120 | Loss: 0.0012645035749301314 | Test Loss: 0.013801807537674904\n",
      "Epoch: 130 | Loss: 0.0012645035749301314 | Test Loss: 0.013801807537674904\n",
      "Epoch: 140 | Loss: 0.0012645035749301314 | Test Loss: 0.013801807537674904\n",
      "Epoch: 150 | Loss: 0.0012645035749301314 | Test Loss: 0.013801807537674904\n",
      "Epoch: 160 | Loss: 0.0012645035749301314 | Test Loss: 0.013801807537674904\n",
      "Epoch: 170 | Loss: 0.0012645035749301314 | Test Loss: 0.013801807537674904\n",
      "Epoch: 180 | Loss: 0.0012645035749301314 | Test Loss: 0.013801807537674904\n",
      "Epoch: 190 | Loss: 0.0012645035749301314 | Test Loss: 0.013801807537674904\n"
     ]
    }
   ],
   "source": [
    "# Let's write a training loop\n",
    "torch.manual_seed(42)\n",
    "\n",
    "epochs = 200\n",
    "\n",
    "# Put data on the target device (device agnostic code for data)\n",
    "X_train = X_train.to(device)\n",
    "X_test = X_test.to(device)\n",
    "y_train = y_train.to(device)\n",
    "y_test = y_test.to(device)\n",
    "\n",
    "for epoch in range(epochs):\n",
    "    model_1.train()\n",
    "    \n",
    "    # 1. forward pass\n",
    "    y_pred = model_1(X_train)\n",
    "    \n",
    "    # 2. Calculate the loss\n",
    "    loss = loss_fn(y_pred, y_train)\n",
    "    \n",
    "    # 3. optimizer zero grad\n",
    "    optimizer.zero_grad()\n",
    "    \n",
    "    # 4. perform backpropagation\n",
    "    loss.backward()\n",
    "    \n",
    "    # 5. Optimizer step\n",
    "    optimizer.step()\n",
    "    \n",
    "    ### Testing\n",
    "    model_1.eval()\n",
    "    with torch.inference_mode():\n",
    "        test_pred = model_1(X_test)\n",
    "        \n",
    "        test_loss = loss_fn(test_pred, y_test)\n",
    "    \n",
    "    # print what's happening\n",
    "    if epoch % 10 == 0:\n",
    "        print(f\"Epoch: {epoch} | Loss: {loss} | Test Loss: {test_loss}\")"
   ]
  },
  {
   "cell_type": "code",
   "execution_count": 44,
   "metadata": {},
   "outputs": [
    {
     "data": {
      "text/plain": [
       "(OrderedDict([('linear_layer.weight', tensor([[0.6968]])),\n",
       "              ('linear_layer.bias', tensor([0.3025]))]),\n",
       " 0.7,\n",
       " 0.3)"
      ]
     },
     "execution_count": 44,
     "metadata": {},
     "output_type": "execute_result"
    }
   ],
   "source": [
    "model_1.state_dict(), weight, bias"
   ]
  },
  {
   "cell_type": "markdown",
   "metadata": {},
   "source": [
    "### 6.4 Making and evaluating predictions"
   ]
  },
  {
   "cell_type": "code",
   "execution_count": 45,
   "metadata": {},
   "outputs": [
    {
     "data": {
      "text/plain": [
       "tensor([[0.8600],\n",
       "        [0.8739],\n",
       "        [0.8878],\n",
       "        [0.9018],\n",
       "        [0.9157],\n",
       "        [0.9296],\n",
       "        [0.9436],\n",
       "        [0.9575],\n",
       "        [0.9714],\n",
       "        [0.9854]])"
      ]
     },
     "execution_count": 45,
     "metadata": {},
     "output_type": "execute_result"
    }
   ],
   "source": [
    "# Turn model into evaluation mode\n",
    "model_1.eval()\n",
    "\n",
    "# Make predictions on the test data\n",
    "with torch.inference_mode():\n",
    "    y_preds = model_1(X_test)\n",
    "    \n",
    "y_preds"
   ]
  },
  {
   "cell_type": "code",
   "execution_count": 46,
   "metadata": {},
   "outputs": [
    {
     "data": {
      "image/png": "[encoded data removed]",
      "text/plain": [
       "<Figure size 1000x700 with 1 Axes>"
      ]
     },
     "metadata": {},
     "output_type": "display_data"
    }
   ],
   "source": [
    "# Check out our model predicitons visually\n",
    "plot_predictions(predictions=y_preds)"
   ]
  },
  {
   "cell_type": "markdown",
   "metadata": {},
   "source": [
    "### Saving and loading a trained model"
   ]
  },
  {
   "cell_type": "code",
   "execution_count": 50,
   "metadata": {},
   "outputs": [
    {
     "name": "stdout",
     "output_type": "stream",
     "text": [
      "Saving model to: models\\01_pytorch_workflow_model_1.pth\n"
     ]
    }
   ],
   "source": [
    "from pathlib import Path\n",
    "\n",
    "# 1. create models directory\n",
    "MODEL_PATH = Path(\"models\")\n",
    "MODEL_PATH.mkdir(parents=True, exist_ok=True)\n",
    "\n",
    "# 2. Create model save path\n",
    "MODEL_NAME = \"01_pytorch_workflow_model_1.pth\"\n",
    "MODEL_SAVE_PATH = MODEL_PATH / MODEL_NAME\n",
    "# MODEL_SAVE_PATH\n",
    "\n",
    "# 3. save the model state dict\n",
    "print(f\"Saving model to: {MODEL_SAVE_PATH}\")\n",
    "torch.save(obj=model_1.state_dict(), f=MODEL_SAVE_PATH)"
   ]
  },
  {
   "cell_type": "code",
   "execution_count": 55,
   "metadata": {},
   "outputs": [
    {
     "data": {
      "text/plain": [
       "LinearRegressionModelV2(\n",
       "  (linear_layer): Linear(in_features=1, out_features=1, bias=True)\n",
       ")"
      ]
     },
     "execution_count": 55,
     "metadata": {},
     "output_type": "execute_result"
    }
   ],
   "source": [
    "# load a Pytorch model\n",
    "\n",
    "# Create a new instance of linear regression model v2\n",
    "loaded_model_1 = LinearRegressionModelV2()\n",
    "\n",
    "# load the saved model_1 state dict\n",
    "loaded_model_1.load_state_dict(torch.load(MODEL_SAVE_PATH))\n",
    "\n",
    "loaded_model_1.to(device)"
   ]
  },
  {
   "cell_type": "code",
   "execution_count": 52,
   "metadata": {},
   "outputs": [
    {
     "data": {
      "text/plain": [
       "device(type='cpu')"
      ]
     },
     "execution_count": 52,
     "metadata": {},
     "output_type": "execute_result"
    }
   ],
   "source": [
    "next(loaded_model_1.parameters()).device"
   ]
  },
  {
   "cell_type": "code",
   "execution_count": 53,
   "metadata": {},
   "outputs": [
    {
     "data": {
      "text/plain": [
       "OrderedDict([('linear_layer.weight', tensor([[0.7645]])),\n",
       "             ('linear_layer.bias', tensor([0.8300]))])"
      ]
     },
     "execution_count": 53,
     "metadata": {},
     "output_type": "execute_result"
    }
   ],
   "source": [
    "loaded_model_1.state_dict()"
   ]
  },
  {
   "cell_type": "code",
   "execution_count": 56,
   "metadata": {},
   "outputs": [
    {
     "data": {
      "text/plain": [
       "tensor([[True],\n",
       "        [True],\n",
       "        [True],\n",
       "        [True],\n",
       "        [True],\n",
       "        [True],\n",
       "        [True],\n",
       "        [True],\n",
       "        [True],\n",
       "        [True]])"
      ]
     },
     "execution_count": 56,
     "metadata": {},
     "output_type": "execute_result"
    }
   ],
   "source": [
    "# evaluate the loaded model\n",
    "loaded_model_1.eval()\n",
    "with torch.inference_mode():\n",
    "    loaded_model_1_preds = loaded_model_1(X_test)\n",
    "y_preds == loaded_model_1_preds"
   ]
  },
  {
   "cell_type": "markdown",
   "metadata": {},
   "source": [
    "### Exercises & Extra-curriculum\n",
    "\n",
    "For exercise & extra-curriculum, refer to: https://www.learnpytorch.io/01_pytorch_workflow/#exercises"
   ]
  }
 ],
 "metadata": {
  "kernelspec": {
   "display_name": "pytorch_dl",
   "language": "python",
   "name": "python3"
  },
  "language_info": {
   "codemirror_mode": {
    "name": "ipython",
    "version": 3
   },
   "file_extension": ".py",
   "mimetype": "text/x-python",
   "name": "python",
   "nbconvert_exporter": "python",
   "pygments_lexer": "ipython3",
   "version": "3.13.2"
  }
 },
 "nbformat": 4,
 "nbformat_minor": 2
}
